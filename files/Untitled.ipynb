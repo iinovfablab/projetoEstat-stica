{
 "cells": [
  {
   "cell_type": "code",
   "execution_count": 84,
   "id": "0dc889fb",
   "metadata": {},
   "outputs": [],
   "source": [
    "import pandas as pd\n",
    "import numpy as np\n",
    "import matplotlib.pyplot as plt"
   ]
  },
  {
   "cell_type": "code",
   "execution_count": 100,
   "id": "4a87b503",
   "metadata": {},
   "outputs": [],
   "source": [
    "df = pd.read_excel(\"Horas Máquina_NFC.xlsx\")\n"
   ]
  },
  {
   "cell_type": "code",
   "execution_count": 101,
   "id": "a8d7b216",
   "metadata": {},
   "outputs": [],
   "source": [
    "df.columns = df.columns.str.replace(\"Unnamed: 0\", \"Cursos\")"
   ]
  },
  {
   "cell_type": "code",
   "execution_count": 102,
   "id": "d3d9e5fe",
   "metadata": {},
   "outputs": [
    {
     "data": {
      "text/plain": [
       "0                                         Administração\n",
       "1                                      Biologia Marinha\n",
       "2                                           Biomedicina\n",
       "3                                   Ciências Biológicas\n",
       "4                                    Ciências Contábeis\n",
       "5                                               Direito\n",
       "6                                       Educação Física\n",
       "7                                            Enfermagem\n",
       "8                                          Fisioterapia\n",
       "9                                            Jornalismo\n",
       "10                                             Nutrição\n",
       "11                                          Odontologia\n",
       "12                                            Pedagogia\n",
       "13                                Produção e Multimídia\n",
       "14                                           Psicologia\n",
       "15                             Publicidade e Propaganda\n",
       "16                Analise e Desenvolvimento de Sistemas\n",
       "17     Tecnólogo de Ciências de Dados e Inteligência...\n",
       "18                          Tecnólogo de Design Gráfico\n",
       "19                          Tecnólogo de Jogos Digitais\n",
       "20                         COMUNIDADE (PUBLICO EXTERNO)\n",
       "21                                    EX-ALUNO UNISANTA\n",
       "22                                          PESQUISADOR\n",
       "23                     PROFESSOR PÓS-GRADUAÇÃO UNISANTA\n",
       "Name: Cursos, dtype: object"
      ]
     },
     "execution_count": 102,
     "metadata": {},
     "output_type": "execute_result"
    }
   ],
   "source": [
    "df[\"Cursos\"]"
   ]
  }
 ],
 "metadata": {
  "kernelspec": {
   "display_name": "Python 3 (ipykernel)",
   "language": "python",
   "name": "python3"
  },
  "language_info": {
   "codemirror_mode": {
    "name": "ipython",
    "version": 3
   },
   "file_extension": ".py",
   "mimetype": "text/x-python",
   "name": "python",
   "nbconvert_exporter": "python",
   "pygments_lexer": "ipython3",
   "version": "3.11.5"
  }
 },
 "nbformat": 4,
 "nbformat_minor": 5
}
