{
 "cells": [
  {
   "cell_type": "code",
   "execution_count": 9,
   "id": "aa0fa198",
   "metadata": {},
   "outputs": [
    {
     "data": {
      "text/plain": [
       "('o', 1)"
      ]
     },
     "execution_count": 9,
     "metadata": {},
     "output_type": "execute_result"
    }
   ],
   "source": [
    "l = [('o',1),('v',2),('o',3)]\n",
    "l[0][::-]"
   ]
  },
  {
   "cell_type": "code",
   "execution_count": null,
   "id": "de355cfa",
   "metadata": {},
   "outputs": [],
   "source": []
  }
 ],
 "metadata": {
  "kernelspec": {
   "display_name": "Python 3 (ipykernel)",
   "language": "python",
   "name": "python3"
  },
  "language_info": {
   "codemirror_mode": {
    "name": "ipython",
    "version": 3
   },
   "file_extension": ".py",
   "mimetype": "text/x-python",
   "name": "python",
   "nbconvert_exporter": "python",
   "pygments_lexer": "ipython3",
   "version": "3.9.12"
  }
 },
 "nbformat": 4,
 "nbformat_minor": 5
}
