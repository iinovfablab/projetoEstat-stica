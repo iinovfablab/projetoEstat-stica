{
 "cells": [
  {
   "cell_type": "markdown",
   "id": "a9b4dbce",
   "metadata": {},
   "source": [
    "\\documentclass{article}\n",
    "\\usepackage[utf8]{inputenc}\n",
    "\\usepackage{graphicx}\n",
    "\n",
    "\\title{A project with images}\n",
    "\\author{Overleaf}\n",
    "\\date{}\n",
    "\n",
    "\\graphicspath{{Images/}}\n",
    "\n",
    "\\begin{document}\n",
    "\n",
    "\\maketitle\n",
    "\n",
    "\\section{Introduction}\n",
    "\\begin{figure}[htp]\n",
    "    \\centering\n",
    "    \\includegraphics[width=4cm]{InsertingImagesEx5}\n",
    "    \\caption{An image of a galaxy}\n",
    "    \\label{fig:galaxy}\n",
    "\\end{figure}\n",
    "\n",
    "\\end{document}\n"
   ]
  },
  {
   "cell_type": "code",
   "execution_count": null,
   "id": "ffbf55e1",
   "metadata": {},
   "outputs": [],
   "source": []
  }
 ],
 "metadata": {
  "kernelspec": {
   "display_name": "Python 3 (ipykernel)",
   "language": "python",
   "name": "python3"
  },
  "language_info": {
   "codemirror_mode": {
    "name": "ipython",
    "version": 3
   },
   "file_extension": ".py",
   "mimetype": "text/x-python",
   "name": "python",
   "nbconvert_exporter": "python",
   "pygments_lexer": "ipython3",
   "version": "3.9.12"
  }
 },
 "nbformat": 4,
 "nbformat_minor": 5
}
